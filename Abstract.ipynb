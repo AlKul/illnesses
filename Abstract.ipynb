{
 "cells": [
  {
   "cell_type": "markdown",
   "id": "refined-jumping",
   "metadata": {},
   "source": [
    "# Генерируем выборку\n"
   ]
  },
  {
   "cell_type": "code",
   "execution_count": 1,
   "id": "sticky-chess",
   "metadata": {},
   "outputs": [],
   "source": [
    "# !pip install seaborn"
   ]
  },
  {
   "cell_type": "code",
   "execution_count": 2,
   "id": "expired-recorder",
   "metadata": {},
   "outputs": [],
   "source": [
    "from random import randint\n",
    "import pandas as pd\n",
    "import numpy as np\n",
    "import seaborn as sns\n",
    "import matplotlib.pyplot as plt\n",
    "\n",
    "%matplotlib inline"
   ]
  },
  {
   "cell_type": "code",
   "execution_count": 3,
   "id": "constant-federation",
   "metadata": {},
   "outputs": [],
   "source": [
    "# Напишем функцию для генерации бинарного признака с заданной вероятностью\n",
    "def generate_bin(prob):\n",
    "    n = 10000\n",
    "    a = []\n",
    "    n_pos = int(n*prob)\n",
    "    n_neg = int(n - n_pos)\n",
    "    for i in range(n_pos):\n",
    "        a.append(1)\n",
    "    for i in range(n_pos, n+1):\n",
    "        a.append(0)\n",
    "    return a[randint(0, n)]"
   ]
  },
  {
   "cell_type": "code",
   "execution_count": 4,
   "id": "senior-climb",
   "metadata": {},
   "outputs": [
    {
     "data": {
      "text/html": [
       "<div>\n",
       "<style scoped>\n",
       "    .dataframe tbody tr th:only-of-type {\n",
       "        vertical-align: middle;\n",
       "    }\n",
       "\n",
       "    .dataframe tbody tr th {\n",
       "        vertical-align: top;\n",
       "    }\n",
       "\n",
       "    .dataframe thead th {\n",
       "        text-align: right;\n",
       "    }\n",
       "</style>\n",
       "<table border=\"1\" class=\"dataframe\">\n",
       "  <thead>\n",
       "    <tr style=\"text-align: right;\">\n",
       "      <th></th>\n",
       "      <th>expirience</th>\n",
       "      <th>expirience_num</th>\n",
       "      <th>accidents</th>\n",
       "      <th>OBS</th>\n",
       "      <th>chronic_ilnesses</th>\n",
       "      <th>dpt</th>\n",
       "    </tr>\n",
       "  </thead>\n",
       "  <tbody>\n",
       "    <tr>\n",
       "      <th>0</th>\n",
       "      <td>&lt; 5 лет</td>\n",
       "      <td>1</td>\n",
       "      <td>0</td>\n",
       "      <td>0</td>\n",
       "      <td>0</td>\n",
       "      <td>Инфекционное отделение</td>\n",
       "    </tr>\n",
       "    <tr>\n",
       "      <th>1</th>\n",
       "      <td>&lt; 5 лет</td>\n",
       "      <td>1</td>\n",
       "      <td>0</td>\n",
       "      <td>0</td>\n",
       "      <td>0</td>\n",
       "      <td>Инфекционное отделение</td>\n",
       "    </tr>\n",
       "    <tr>\n",
       "      <th>2</th>\n",
       "      <td>&lt; 5 лет</td>\n",
       "      <td>1</td>\n",
       "      <td>0</td>\n",
       "      <td>0</td>\n",
       "      <td>0</td>\n",
       "      <td>Инфекционное отделение</td>\n",
       "    </tr>\n",
       "    <tr>\n",
       "      <th>3</th>\n",
       "      <td>&lt; 5 лет</td>\n",
       "      <td>1</td>\n",
       "      <td>0</td>\n",
       "      <td>0</td>\n",
       "      <td>0</td>\n",
       "      <td>Инфекционное отделение</td>\n",
       "    </tr>\n",
       "    <tr>\n",
       "      <th>4</th>\n",
       "      <td>&lt; 5 лет</td>\n",
       "      <td>1</td>\n",
       "      <td>1</td>\n",
       "      <td>0</td>\n",
       "      <td>0</td>\n",
       "      <td>Инфекционное отделение</td>\n",
       "    </tr>\n",
       "    <tr>\n",
       "      <th>...</th>\n",
       "      <td>...</td>\n",
       "      <td>...</td>\n",
       "      <td>...</td>\n",
       "      <td>...</td>\n",
       "      <td>...</td>\n",
       "      <td>...</td>\n",
       "    </tr>\n",
       "    <tr>\n",
       "      <th>65</th>\n",
       "      <td>10 - 15 лет</td>\n",
       "      <td>3</td>\n",
       "      <td>0</td>\n",
       "      <td>0</td>\n",
       "      <td>0</td>\n",
       "      <td>Инфекционное отделение</td>\n",
       "    </tr>\n",
       "    <tr>\n",
       "      <th>66</th>\n",
       "      <td>10 - 15 лет</td>\n",
       "      <td>3</td>\n",
       "      <td>0</td>\n",
       "      <td>1</td>\n",
       "      <td>0</td>\n",
       "      <td>Инфекционное отделение</td>\n",
       "    </tr>\n",
       "    <tr>\n",
       "      <th>67</th>\n",
       "      <td>10 - 15 лет</td>\n",
       "      <td>3</td>\n",
       "      <td>0</td>\n",
       "      <td>0</td>\n",
       "      <td>0</td>\n",
       "      <td>Инфекционное отделение</td>\n",
       "    </tr>\n",
       "    <tr>\n",
       "      <th>68</th>\n",
       "      <td>10 - 15 лет</td>\n",
       "      <td>3</td>\n",
       "      <td>1</td>\n",
       "      <td>0</td>\n",
       "      <td>0</td>\n",
       "      <td>Инфекционное отделение</td>\n",
       "    </tr>\n",
       "    <tr>\n",
       "      <th>69</th>\n",
       "      <td>10 - 15 лет</td>\n",
       "      <td>3</td>\n",
       "      <td>1</td>\n",
       "      <td>1</td>\n",
       "      <td>0</td>\n",
       "      <td>Инфекционное отделение</td>\n",
       "    </tr>\n",
       "  </tbody>\n",
       "</table>\n",
       "<p>70 rows × 6 columns</p>\n",
       "</div>"
      ],
      "text/plain": [
       "     expirience  expirience_num  accidents  OBS  chronic_ilnesses  \\\n",
       "0       < 5 лет               1          0    0                 0   \n",
       "1       < 5 лет               1          0    0                 0   \n",
       "2       < 5 лет               1          0    0                 0   \n",
       "3       < 5 лет               1          0    0                 0   \n",
       "4       < 5 лет               1          1    0                 0   \n",
       "..          ...             ...        ...  ...               ...   \n",
       "65  10 - 15 лет               3          0    0                 0   \n",
       "66  10 - 15 лет               3          0    1                 0   \n",
       "67  10 - 15 лет               3          0    0                 0   \n",
       "68  10 - 15 лет               3          1    0                 0   \n",
       "69  10 - 15 лет               3          1    1                 0   \n",
       "\n",
       "                       dpt  \n",
       "0   Инфекционное отделение  \n",
       "1   Инфекционное отделение  \n",
       "2   Инфекционное отделение  \n",
       "3   Инфекционное отделение  \n",
       "4   Инфекционное отделение  \n",
       "..                     ...  \n",
       "65  Инфекционное отделение  \n",
       "66  Инфекционное отделение  \n",
       "67  Инфекционное отделение  \n",
       "68  Инфекционное отделение  \n",
       "69  Инфекционное отделение  \n",
       "\n",
       "[70 rows x 6 columns]"
      ]
     },
     "execution_count": 4,
     "metadata": {},
     "output_type": "execute_result"
    }
   ],
   "source": [
    "#def db_generator(l5, acc_rate1, OBS_rate1, chron_rate1, \n",
    "#              g5l10, acc_rate2, OBS_rate2, chron_rate2)\n",
    "\n",
    "expirience = []\n",
    "expirience_num = []\n",
    "accidents = []\n",
    "OBS = [] # СЭВ - occupational burnout syndrome\n",
    "chronic_ilnesses = []\n",
    "dpt = [] # отделение\n",
    "\n",
    "\n",
    "for i in range(0,11):\n",
    "#for i in range(0,30):\n",
    "    expirience.append(\"< 5 лет\")\n",
    "    expirience_num.append(1)\n",
    "    acc = 0\n",
    "    for i in range(5):\n",
    "        acc += generate_bin(0.08)\n",
    "    #accidents.append(generate_bin(0.08))\n",
    "    accidents.append(acc)\n",
    "    OBS.append(generate_bin(0.1))\n",
    "    chronic_ilnesses.append(generate_bin(0.03))  \n",
    "for i in range(23):\n",
    "#for i in range(80):\n",
    "    expirience.append(\"5 - 10 лет\")\n",
    "    expirience_num.append(2)\n",
    "#    accidents.append(generate_bin(0.10))\n",
    "    acc = 0\n",
    "    for i in range(5):\n",
    "        acc += generate_bin(0.1)\n",
    "    accidents.append(acc)\n",
    "    OBS.append(generate_bin(0.15))\n",
    "    chronic_ilnesses.append(generate_bin(0.03))\n",
    "for i in range(57):\n",
    "#for i in range(120):\n",
    "    expirience.append(\"10 - 15 лет\")\n",
    "    expirience_num.append(3)\n",
    "#    accidents.append(generate_bin(0.12))\n",
    "    acc = 0\n",
    "    for i in range(5):\n",
    "        acc += generate_bin(0.12)\n",
    "    accidents.append(acc)\n",
    "    OBS.append(generate_bin(0.25))\n",
    "    chronic_ilnesses.append(generate_bin(0.05))\n",
    "#for i in range(40):\n",
    "for i in range(17):\n",
    "    expirience.append(\"> 15 лет\")\n",
    "    expirience_num.append(4)\n",
    "#    accidents.append(generate_bin(0.15))\n",
    "    acc = 0\n",
    "    for i in range(5):\n",
    "        acc += generate_bin(0.15)\n",
    "    accidents.append(acc)\n",
    "    OBS.append(generate_bin(0.25))\n",
    "    chronic_ilnesses.append(generate_bin(0.25))\n",
    "#for i in range(30 + 80+120+40):\n",
    "for i in range(11 + 23 + 57 + 17):\n",
    "    dpt.append(\"Инфекционное отделение\")\n",
    "    \n",
    "\n",
    "#df = pd.DataFrame( ( expirience, accidents, OBS, chronic_ilnesses, dpt), columns = ['expirience', 'accidents', 'OBS', 'chronic_ilnesses', 'dpt'])\n",
    "df = pd.DataFrame({\n",
    "    'expirience' : expirience,\n",
    "    'expirience_num' : expirience_num,\n",
    "    'accidents' : accidents,\n",
    "    'OBS' : OBS,\n",
    "    'chronic_ilnesses' : chronic_ilnesses,\n",
    "    'dpt' : dpt\n",
    "})\n",
    "df.head(70)\n",
    "\n",
    "#expirience, \n",
    "#generate_bin(0.5)"
   ]
  },
  {
   "cell_type": "code",
   "execution_count": 5,
   "id": "rubber-registrar",
   "metadata": {},
   "outputs": [],
   "source": [
    "df_unsorted = df.sample(frac=1)\n",
    "PREPARED_DATASET_PATH = './illnesses.csv'\n",
    "df_unsorted.to_csv(PREPARED_DATASET_PATH, index=False, encoding='utf-8', sep=';')"
   ]
  },
  {
   "cell_type": "code",
   "execution_count": 6,
   "id": "tender-hanging",
   "metadata": {},
   "outputs": [],
   "source": [
    "exp_dict = {\n",
    "    '< 5 лет' : 1,\n",
    "    '5 - 10 лет' : 2,\n",
    "    '10 - 15 лет' : 3,\n",
    "    '> 15 лет' : 4\n",
    "           }"
   ]
  },
  {
   "cell_type": "code",
   "execution_count": 7,
   "id": "rough-matthew",
   "metadata": {},
   "outputs": [
    {
     "data": {
      "text/plain": [
       "<seaborn.axisgrid.FacetGrid at 0x7f9c309d5130>"
      ]
     },
     "execution_count": 7,
     "metadata": {},
     "output_type": "execute_result"
    },
    {
     "data": {
      "image/png": "[encoded data removed]",
      "text/plain": [
       "<Figure size 360x360 with 1 Axes>"
      ]
     },
     "metadata": {
      "needs_background": "light"
     },
     "output_type": "display_data"
    }
   ],
   "source": [
    "g = sns.displot(expirience_num, bins = 4)\n",
    "g.set_axis_labels(\"Стаж\", \"Количество\")\n"
   ]
  },
  {
   "cell_type": "code",
   "execution_count": 8,
   "id": "compact-growing",
   "metadata": {},
   "outputs": [
    {
     "data": {
      "text/plain": [
       "Text(0, 0.5, 'Количество')"
      ]
     },
     "execution_count": 8,
     "metadata": {},
     "output_type": "execute_result"
    },
    {
     "data": {
      "image/png": "[encoded data removed]",
      "text/plain": [
       "<Figure size 1440x720 with 4 Axes>"
      ]
     },
     "metadata": {
      "needs_background": "light"
     },
     "output_type": "display_data"
    }
   ],
   "source": [
    "df_num_features = df.copy()\n",
    "df_num_features.drop('expirience', axis=1, inplace=True)\n",
    "\n",
    "plt.figure(figsize = (20,10))\n",
    "\n",
    "plt.subplot(221)\n",
    "\n",
    "#g = df_num_features.hist(figsize=(10,8), bins=4, grid=True)\n",
    "\n",
    "#g = df_num_features['expirience_num'].hist(figsize=(5,4), bins=4, grid=True)\n",
    "\n",
    "sns.histplot(data=df, x='expirience_num', bins = 4)\n",
    "plt.xlabel('Стаж')\n",
    "plt.ylabel('Количество')\n",
    "\n",
    "plt.subplot(222)\n",
    "\n",
    "#g = df_num_features.hist(figsize=(10,8), bins=4, grid=True)\n",
    "\n",
    "#g = df_num_features['expirience_num'].hist(figsize=(5,4), bins=4, grid=True)\n",
    "\n",
    "sns.histplot(data=df, x='accidents', bins = 4)\n",
    "plt.xlabel('Число происшествий')\n",
    "plt.ylabel('Количество')\n",
    "\n",
    "plt.subplot(223)\n",
    "\n",
    "#g = df_num_features.hist(figsize=(10,8), bins=4, grid=True)\n",
    "\n",
    "#g = df_num_features['expirience_num'].hist(figsize=(5,4), bins=4, grid=True)\n",
    "\n",
    "sns.histplot(data=df, x='OBS', bins = 4)\n",
    "plt.xlabel('СЭВ')\n",
    "plt.ylabel('Количество')\n",
    "\n",
    "plt.subplot(224)\n",
    "\n",
    "#g = df_num_features.hist(figsize=(10,8), bins=4, grid=True)\n",
    "\n",
    "#g = df_num_features['expirience_num'].hist(figsize=(5,4), bins=4, grid=True)\n",
    "\n",
    "sns.histplot(data=df, x='chronic_ilnesses', bins = 4)\n",
    "plt.xlabel('Хронические заболевания')\n",
    "plt.ylabel('Количество')\n"
   ]
  },
  {
   "cell_type": "code",
   "execution_count": 9,
   "id": "indian-circular",
   "metadata": {},
   "outputs": [
    {
     "name": "stderr",
     "output_type": "stream",
     "text": [
      "/Library/Frameworks/Python.framework/Versions/3.9/lib/python3.9/site-packages/seaborn/_decorators.py:36: FutureWarning: Pass the following variables as keyword args: x, y. From version 0.12, the only valid positional argument will be `data`, and passing other arguments without an explicit keyword will result in an error or misinterpretation.\n",
      "  warnings.warn(\n"
     ]
    },
    {
     "data": {
      "image/png": "[encoded data removed]",
      "text/plain": [
       "<Figure size 288x288 with 3 Axes>"
      ]
     },
     "metadata": {
      "needs_background": "light"
     },
     "output_type": "display_data"
    }
   ],
   "source": [
    "grid = sns.jointplot(df['expirience_num'], df['chronic_ilnesses'], kind='reg')\n",
    "grid.fig.set_figwidth(4)\n",
    "grid.fig.set_figheight(4)\n",
    "\n",
    "grid.set_axis_labels('Стаж', 'Хронические заболевания')\n",
    "\n",
    "\n",
    "plt.show()"
   ]
  },
  {
   "cell_type": "code",
   "execution_count": 10,
   "id": "finished-biology",
   "metadata": {},
   "outputs": [
    {
     "data": {
      "image/png": "[encoded data removed]",
      "text/plain": [
       "<Figure size 1080x360 with 2 Axes>"
      ]
     },
     "metadata": {
      "needs_background": "light"
     },
     "output_type": "display_data"
    }
   ],
   "source": [
    "plt.figure(figsize = (15,5))\n",
    "\n",
    "sns.set(font_scale=1.4)\n",
    "\n",
    "corr_matrix = df_num_features.corr()\n",
    "corr_matrix = np.round(corr_matrix, 2)\n",
    "#corr_matrix[np.abs(corr_matrix) < 0.3] = 0\n",
    "corr_matrix = corr_matrix.rename(columns={'expirience_num':\"Стаж\", 'accidents':\"Происшествия\", 'OBS':\"СЭВ\", \"chronic_ilnesses\":\"Хронические заболевания\"},\n",
    "                   index={'expirience_num':\"Стаж\", 'accidents':\"Происшествия\", 'OBS':\"СЭВ\", \"chronic_ilnesses\":\"Хронические заболевания\"} \n",
    ")\n",
    "\n",
    "sns.heatmap(corr_matrix, annot=True, linewidths=.5, cmap='coolwarm')\n",
    "\n",
    "plt.title('Матрица корреляций')\n",
    "plt.show()\n",
    "\n"
   ]
  },
  {
   "cell_type": "code",
   "execution_count": 11,
   "id": "listed-swedish",
   "metadata": {},
   "outputs": [],
   "source": [
    "df = pd.read_csv(\"illnesses.csv\")"
   ]
  },
  {
   "cell_type": "code",
   "execution_count": null,
   "id": "supreme-auditor",
   "metadata": {},
   "outputs": [],
   "source": []
  }
 ],
 "metadata": {
  "kernelspec": {
   "display_name": "Python 3",
   "language": "python",
   "name": "python3"
  },
  "language_info": {
   "codemirror_mode": {
    "name": "ipython",
    "version": 3
   },
   "file_extension": ".py",
   "mimetype": "text/x-python",
   "name": "python",
   "nbconvert_exporter": "python",
   "pygments_lexer": "ipython3",
   "version": "3.9.0"
  }
 },
 "nbformat": 4,
 "nbformat_minor": 5
}
