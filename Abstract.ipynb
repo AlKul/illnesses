{
 "cells": [
  {
   "cell_type": "markdown",
   "id": "induced-professional",
   "metadata": {},
   "source": [
    "# Генерируем выборку\n"
   ]
  },
  {
   "cell_type": "code",
   "execution_count": 1,
   "id": "weird-nevada",
   "metadata": {},
   "outputs": [],
   "source": [
    "# !pip install seaborn"
   ]
  },
  {
   "cell_type": "code",
   "execution_count": 2,
   "id": "quick-residence",
   "metadata": {},
   "outputs": [],
   "source": [
    "from random import randint\n",
    "import pandas as pd\n",
    "import numpy as np\n",
    "import seaborn as sns\n",
    "import matplotlib.pyplot as plt\n",
    "\n",
    "%matplotlib inline"
   ]
  },
  {
   "cell_type": "code",
   "execution_count": 3,
   "id": "fancy-third",
   "metadata": {},
   "outputs": [],
   "source": [
    "# Напишем функцию для генерации бинарного признака с заданной вероятностью\n",
    "def generate_bin(prob):\n",
    "    n = 10000\n",
    "    a = []\n",
    "    n_pos = int(n*prob)\n",
    "    n_neg = int(n - n_pos)\n",
    "    for i in range(n_pos):\n",
    "        a.append(1)\n",
    "    for i in range(n_pos, n+1):\n",
    "        a.append(0)\n",
    "    return a[randint(0, n)]"
   ]
  },
  {
   "cell_type": "code",
   "execution_count": 4,
   "id": "patent-circus",
   "metadata": {},
   "outputs": [
    {
     "data": {
      "text/html": [
       "<div>\n",
       "<style scoped>\n",
       "    .dataframe tbody tr th:only-of-type {\n",
       "        vertical-align: middle;\n",
       "    }\n",
       "\n",
       "    .dataframe tbody tr th {\n",
       "        vertical-align: top;\n",
       "    }\n",
       "\n",
       "    .dataframe thead th {\n",
       "        text-align: right;\n",
       "    }\n",
       "</style>\n",
       "<table border=\"1\" class=\"dataframe\">\n",
       "  <thead>\n",
       "    <tr style=\"text-align: right;\">\n",
       "      <th></th>\n",
       "      <th>expirience</th>\n",
       "      <th>Число происшествий</th>\n",
       "      <th>СЭВ</th>\n",
       "      <th>Хронические заболевания</th>\n",
       "    </tr>\n",
       "    <tr>\n",
       "      <th>expirience_num</th>\n",
       "      <th></th>\n",
       "      <th></th>\n",
       "      <th></th>\n",
       "      <th></th>\n",
       "    </tr>\n",
       "  </thead>\n",
       "  <tbody>\n",
       "    <tr>\n",
       "      <th>1</th>\n",
       "      <td>&lt; 5 лет</td>\n",
       "      <td>4</td>\n",
       "      <td>1</td>\n",
       "      <td>0</td>\n",
       "    </tr>\n",
       "    <tr>\n",
       "      <th>2</th>\n",
       "      <td>5 - 10 лет</td>\n",
       "      <td>10</td>\n",
       "      <td>2</td>\n",
       "      <td>0</td>\n",
       "    </tr>\n",
       "    <tr>\n",
       "      <th>3</th>\n",
       "      <td>10 - 15 лет</td>\n",
       "      <td>15</td>\n",
       "      <td>4</td>\n",
       "      <td>1</td>\n",
       "    </tr>\n",
       "    <tr>\n",
       "      <th>4</th>\n",
       "      <td>&gt; 15 лет</td>\n",
       "      <td>10</td>\n",
       "      <td>4</td>\n",
       "      <td>2</td>\n",
       "    </tr>\n",
       "  </tbody>\n",
       "</table>\n",
       "</div>"
      ],
      "text/plain": [
       "                 expirience  Число происшествий  СЭВ  Хронические заболевания\n",
       "expirience_num                                                               \n",
       "1                   < 5 лет                   4    1                        0\n",
       "2                5 - 10 лет                  10    2                        0\n",
       "3               10 - 15 лет                  15    4                        1\n",
       "4                  > 15 лет                  10    4                        2"
      ]
     },
     "execution_count": 4,
     "metadata": {},
     "output_type": "execute_result"
    }
   ],
   "source": [
    "#def db_generator(l5, acc_rate1, OBS_rate1, chron_rate1, \n",
    "#              g5l10, acc_rate2, OBS_rate2, chron_rate2)\n",
    "\n",
    "expirience = []\n",
    "expirience_num = []\n",
    "accidents = []\n",
    "OBS = [] # СЭВ - occupational burnout syndrome\n",
    "chronic_ilnesses = []\n",
    "dpt = [] # отделение\n",
    "\n",
    "n1 = 9\n",
    "n2 = 16\n",
    "n3 = 19\n",
    "n4 = 14\n",
    "\n",
    "\n",
    "for i in range(0,n1):\n",
    "#for i in range(0,30):\n",
    "    expirience.append(\"< 5 лет\")\n",
    "    expirience_num.append(1)\n",
    "    acc = 0\n",
    "    for i in range(5):\n",
    "        acc += generate_bin(0.08)\n",
    "    #accidents.append(generate_bin(0.08))\n",
    "    accidents.append(acc)\n",
    "    OBS.append(generate_bin(0.1))\n",
    "    chronic_ilnesses.append(generate_bin(0.03))  \n",
    "for i in range(n2):\n",
    "#for i in range(80):\n",
    "    expirience.append(\"5 - 10 лет\")\n",
    "    expirience_num.append(2)\n",
    "#    accidents.append(generate_bin(0.10))\n",
    "    acc = 0\n",
    "    for i in range(5):\n",
    "        acc += generate_bin(0.1)\n",
    "    accidents.append(acc)\n",
    "    OBS.append(generate_bin(0.15))\n",
    "    chronic_ilnesses.append(generate_bin(0.03))\n",
    "for i in range(n3):\n",
    "#for i in range(120):\n",
    "    expirience.append(\"10 - 15 лет\")\n",
    "    expirience_num.append(3)\n",
    "#    accidents.append(generate_bin(0.12))\n",
    "    acc = 0\n",
    "    for i in range(5):\n",
    "        acc += generate_bin(0.12)\n",
    "    accidents.append(acc)\n",
    "    OBS.append(generate_bin(0.25))\n",
    "    chronic_ilnesses.append(generate_bin(0.05))\n",
    "#for i in range(40):\n",
    "for i in range(n4):\n",
    "    expirience.append(\"> 15 лет\")\n",
    "    expirience_num.append(4)\n",
    "#    accidents.append(generate_bin(0.15))\n",
    "    acc = 0\n",
    "    for i in range(5):\n",
    "        acc += generate_bin(0.15)\n",
    "    accidents.append(acc)\n",
    "    OBS.append(generate_bin(0.25))\n",
    "    chronic_ilnesses.append(generate_bin(0.25))\n",
    "#for i in range(30 + 80+120+40):\n",
    "for i in range(n1 + n2 + n3 + n4):\n",
    "    dpt.append(\"Инфекционное отделение\")\n",
    "    \n",
    "\n",
    "#df = pd.DataFrame( ( expirience, accidents, OBS, chronic_ilnesses, dpt), columns = ['expirience', 'accidents', 'OBS', 'chronic_ilnesses', 'dpt'])\n",
    "df = pd.DataFrame({\n",
    "    'expirience' : expirience,\n",
    "    'expirience_num' : expirience_num,\n",
    "    'accidents' : accidents,\n",
    "    'OBS' : OBS,\n",
    "    'chronic_ilnesses' : chronic_ilnesses,\n",
    "    'dpt' : dpt\n",
    "})\n",
    "tmp = df.groupby('expirience_num').agg({'expirience':'min', 'accidents':'sum', 'OBS':'sum', 'chronic_ilnesses':'sum'}).sort_values('expirience_num').rename(columns = {'expirince' : 'Стаж', 'accidents' : 'Число происшествий', 'OBS': 'СЭВ', 'chronic_ilnesses': 'Хронические заболевания'})\n",
    "#tmp.drop('expirience_num', axis = 'columns', inplace = True)\n",
    "tmp\n",
    "\n",
    "#expirience, \n",
    "#generate_bin(0.5)"
   ]
  },
  {
   "cell_type": "code",
   "execution_count": 5,
   "id": "precise-benchmark",
   "metadata": {},
   "outputs": [],
   "source": [
    "df_unsorted = df.sample(frac=1)\n",
    "PREPARED_DATASET_PATH = './illnesses.csv'\n",
    "df_unsorted.to_csv(PREPARED_DATASET_PATH, index=False, encoding='utf-8', sep=';')"
   ]
  },
  {
   "cell_type": "code",
   "execution_count": 6,
   "id": "precise-heading",
   "metadata": {},
   "outputs": [],
   "source": [
    "exp_dict = {\n",
    "    '< 5 лет' : 1,\n",
    "    '5 - 10 лет' : 2,\n",
    "    '10 - 15 лет' : 3,\n",
    "    '> 15 лет' : 4\n",
    "           }"
   ]
  },
  {
   "cell_type": "code",
   "execution_count": 7,
   "id": "closed-speaker",
   "metadata": {},
   "outputs": [
    {
     "data": {
      "text/plain": [
       "Text(0, 0.5, 'Количество')"
      ]
     },
     "execution_count": 7,
     "metadata": {},
     "output_type": "execute_result"
    },
    {
     "data": {
      "image/png": "[encoded data removed]",
      "text/plain": [
       "<Figure size 1440x720 with 4 Axes>"
      ]
     },
     "metadata": {
      "needs_background": "light"
     },
     "output_type": "display_data"
    }
   ],
   "source": [
    "df_num_features = df.copy()\n",
    "#df_num_features.drop('expirience', axis=1, inplace=True)\n",
    "\n",
    "plt.figure(figsize = (20,10))\n",
    "\n",
    "plt.subplot(221)\n",
    "\n",
    "#g = df_num_features.hist(figsize=(10,8), bins=4, grid=True)\n",
    "\n",
    "#g = df_num_features['expirience_num'].hist(figsize=(5,4), bins=4, grid=True)\n",
    "\n",
    "arr = np.array([1, 2, 3, 4])\n",
    "g = sns.histplot(data=df, x='expirience_num', discrete=True)\n",
    "plt.xticks(arr)\n",
    "g.set_xticklabels({'< 5', '5-10', '10-15', '> 15'})\n",
    "\n",
    "plt.xlabel('Стаж')\n",
    "plt.ylabel('Количество')\n",
    "\n",
    "plt.subplot(222)\n",
    "\n",
    "#g = df_num_features.hist(figsize=(10,8), bins=4, grid=True)\n",
    "\n",
    "#g = df_num_features['expirience_num'].hist(figsize=(5,4), bins=4, grid=True)\n",
    "\n",
    "arr = np.array([0, 1, 2, 3, 4])\n",
    "sns.histplot(data=df, x='accidents', discrete=True)\n",
    "plt.xticks(arr)\n",
    "\n",
    "plt.xlabel('Число происшествий')\n",
    "plt.ylabel('Количество')\n",
    "\n",
    "plt.subplot(223)\n",
    "\n",
    "#g = df_num_features.hist(figsize=(10,8), bins=4, grid=True)\n",
    "\n",
    "#g = df_num_features['expirience_num'].hist(figsize=(5,4), bins=4, grid=True)\n",
    "\n",
    "arr = np.array([0, 1]) \n",
    "sns.histplot(data=df, x='OBS', discrete=True)\n",
    "plt.xticks(arr)\n",
    "\n",
    "plt.xlabel('СЭВ')\n",
    "plt.ylabel('Количество')\n",
    "\n",
    "plt.subplot(224)\n",
    "\n",
    "#g = df_num_features.hist(figsize=(10,8), bins=4, grid=True)\n",
    "\n",
    "#g = df_num_features['expirience_num'].hist(figsize=(5,4), bins=4, grid=True)\n",
    "\n",
    "arr = [0, 1]\n",
    "g = sns.histplot(data=df, x='chronic_ilnesses', discrete=True)\n",
    "\n",
    "plt.xticks(arr)\n",
    "g.set_xticklabels({'0', '1'})\n",
    "plt.xlabel('Хронические заболевания')\n",
    "plt.ylabel('Количество')\n",
    "\n"
   ]
  },
  {
   "cell_type": "code",
   "execution_count": 8,
   "id": "ideal-senegal",
   "metadata": {},
   "outputs": [
    {
     "name": "stderr",
     "output_type": "stream",
     "text": [
      "/Library/Frameworks/Python.framework/Versions/3.9/lib/python3.9/site-packages/seaborn/_decorators.py:36: FutureWarning: Pass the following variables as keyword args: x, y. From version 0.12, the only valid positional argument will be `data`, and passing other arguments without an explicit keyword will result in an error or misinterpretation.\n",
      "  warnings.warn(\n"
     ]
    },
    {
     "data": {
      "image/png": "[encoded data removed]",
      "text/plain": [
       "<Figure size 288x288 with 3 Axes>"
      ]
     },
     "metadata": {
      "needs_background": "light"
     },
     "output_type": "display_data"
    }
   ],
   "source": [
    "grid = sns.jointplot(df['expirience_num'], df['chronic_ilnesses'], kind='reg')\n",
    "grid.fig.set_figwidth(4)\n",
    "grid.fig.set_figheight(4)\n",
    "\n",
    "grid.set_axis_labels('Стаж', 'Хронические заболевания')\n",
    "\n",
    "\n",
    "plt.show()"
   ]
  },
  {
   "cell_type": "code",
   "execution_count": 9,
   "id": "facial-proposition",
   "metadata": {},
   "outputs": [
    {
     "data": {
      "image/png": "[encoded data removed]",
      "text/plain": [
       "<Figure size 1080x360 with 2 Axes>"
      ]
     },
     "metadata": {
      "needs_background": "light"
     },
     "output_type": "display_data"
    }
   ],
   "source": [
    "plt.figure(figsize = (15,5))\n",
    "\n",
    "sns.set(font_scale=1.4)\n",
    "\n",
    "corr_matrix = df_num_features.corr()\n",
    "corr_matrix = np.round(corr_matrix, 2)\n",
    "#corr_matrix[np.abs(corr_matrix) < 0.3] = 0\n",
    "corr_matrix = corr_matrix.rename(columns={'expirience_num':\"Стаж\", 'accidents':\"Происшествия\", 'OBS':\"СЭВ\", \"chronic_ilnesses\":\"Хронические заболевания\"},\n",
    "                   index={'expirience_num':\"Стаж\", 'accidents':\"Происшествия\", 'OBS':\"СЭВ\", \"chronic_ilnesses\":\"Хронические заболевания\"} \n",
    ")\n",
    "\n",
    "sns.heatmap(corr_matrix, annot=True, linewidths=.5, cmap='coolwarm')\n",
    "\n",
    "plt.title('Матрица корреляций')\n",
    "plt.show()\n",
    "\n"
   ]
  },
  {
   "cell_type": "code",
   "execution_count": 10,
   "id": "going-nomination",
   "metadata": {},
   "outputs": [],
   "source": [
    "df = pd.read_csv(\"illnesses.csv\")"
   ]
  },
  {
   "cell_type": "code",
   "execution_count": null,
   "id": "considered-consolidation",
   "metadata": {},
   "outputs": [],
   "source": []
  }
 ],
 "metadata": {
  "kernelspec": {
   "display_name": "Python 3",
   "language": "python",
   "name": "python3"
  },
  "language_info": {
   "codemirror_mode": {
    "name": "ipython",
    "version": 3
   },
   "file_extension": ".py",
   "mimetype": "text/x-python",
   "name": "python",
   "nbconvert_exporter": "python",
   "pygments_lexer": "ipython3",
   "version": "3.9.0"
  }
 },
 "nbformat": 4,
 "nbformat_minor": 5
}
